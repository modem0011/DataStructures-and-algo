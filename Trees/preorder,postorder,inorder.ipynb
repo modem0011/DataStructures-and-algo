{
  "nbformat": 4,
  "nbformat_minor": 0,
  "metadata": {
    "colab": {
      "name": "Preorder , inorder ,postorder.ipynb",
      "provenance": []
    },
    "kernelspec": {
      "name": "python3",
      "display_name": "Python 3"
    }
  },
  "cells": [
    {
      "cell_type": "code",
      "metadata": {
        "id": "WV2vvGkFHsux",
        "colab_type": "code",
        "colab": {}
      },
      "source": [
        "class Node:\n",
        "  def __init__(self,value):\n",
        "    self.value=value\n",
        "    self.left=None\n",
        "    self.right=None"
      ],
      "execution_count": 1,
      "outputs": []
    },
    {
      "cell_type": "code",
      "metadata": {
        "id": "T-ggFnZSRdtv",
        "colab_type": "code",
        "colab": {}
      },
      "source": [
        "class BinaryTree:\n",
        "  def __init__(self,root):\n",
        "    self.root=Node(root)\n",
        "  def preorder(self,root):\n",
        "    if root is None:\n",
        "      return\n",
        "    print(root.value)\n",
        "    self.preorder(root.left)\n",
        "    self.preorder(root.right)\n",
        "  \n",
        "  def postorder(self,root):\n",
        "    if root is None:\n",
        "      return \n",
        "    self.postorder(root.left)\n",
        "    self.postorder(root.right)\n",
        "    print(root.value)\n",
        "\n",
        "  def inorder(self,root):\n",
        "    if root is None:\n",
        "      return\n",
        "    self.inorder(root.left)\n",
        "    print(root.value)\n",
        "    self.inorder(root.right)\n",
        "  "
      ],
      "execution_count": 19,
      "outputs": []
    },
    {
      "cell_type": "code",
      "metadata": {
        "id": "6vGnFYArR5wV",
        "colab_type": "code",
        "colab": {}
      },
      "source": [
        "a=BinaryTree(4)\n"
      ],
      "execution_count": 20,
      "outputs": []
    },
    {
      "cell_type": "code",
      "metadata": {
        "id": "qpimh4yHR8x6",
        "colab_type": "code",
        "colab": {}
      },
      "source": [
        "a.root.left=Node(5)\n",
        "a.root.right=Node(10)\n",
        "a.root.left.left=Node(7)\n",
        "a.root.left.right=Node(8)\n",
        "a.root.right.right=Node(1)"
      ],
      "execution_count": 21,
      "outputs": []
    },
    {
      "cell_type": "code",
      "metadata": {
        "id": "jO14DlooSKxF",
        "colab_type": "code",
        "colab": {
          "base_uri": "https://localhost:8080/",
          "height": 118
        },
        "outputId": "229ebdd2-65bc-4969-e139-f0b23f9dd11b"
      },
      "source": [
        "a.preorder(a.root)                                               "
      ],
      "execution_count": 22,
      "outputs": [
        {
          "output_type": "stream",
          "text": [
            "4\n",
            "5\n",
            "7\n",
            "8\n",
            "10\n",
            "1\n"
          ],
          "name": "stdout"
        }
      ]
    },
    {
      "cell_type": "code",
      "metadata": {
        "id": "ApcEPATlUwao",
        "colab_type": "code",
        "colab": {
          "base_uri": "https://localhost:8080/",
          "height": 118
        },
        "outputId": "e7e52463-6bc2-4de1-b4db-242c753bcaf2"
      },
      "source": [
        "a.postorder(a.root)"
      ],
      "execution_count": 23,
      "outputs": [
        {
          "output_type": "stream",
          "text": [
            "7\n",
            "8\n",
            "5\n",
            "1\n",
            "10\n",
            "4\n"
          ],
          "name": "stdout"
        }
      ]
    },
    {
      "cell_type": "code",
      "metadata": {
        "id": "zRLTPtIcVgCN",
        "colab_type": "code",
        "colab": {
          "base_uri": "https://localhost:8080/",
          "height": 118
        },
        "outputId": "23742370-130e-4205-cbee-de245af52b31"
      },
      "source": [
        "a.inorder(a.root)"
      ],
      "execution_count": 24,
      "outputs": [
        {
          "output_type": "stream",
          "text": [
            "7\n",
            "5\n",
            "8\n",
            "4\n",
            "10\n",
            "1\n"
          ],
          "name": "stdout"
        }
      ]
    },
    {
      "cell_type": "code",
      "metadata": {
        "id": "x5HrtIg8WC6N",
        "colab_type": "code",
        "colab": {}
      },
      "source": [
        ""
      ],
      "execution_count": null,
      "outputs": []
    }
  ]
}