{
  "nbformat": 4,
  "nbformat_minor": 0,
  "metadata": {
    "colab": {
      "name": "Heaps.ipynb",
      "provenance": []
    },
    "kernelspec": {
      "name": "python3",
      "display_name": "Python 3"
    }
  },
  "cells": [
    {
      "cell_type": "code",
      "metadata": {
        "id": "4iCivTviSYjG",
        "colab_type": "code",
        "colab": {}
      },
      "source": [
        "import heapq as heap"
      ],
      "execution_count": 0,
      "outputs": []
    },
    {
      "cell_type": "code",
      "metadata": {
        "id": "lU_F6sHKV7_z",
        "colab_type": "code",
        "colab": {}
      },
      "source": [
        "l=[]"
      ],
      "execution_count": 0,
      "outputs": []
    },
    {
      "cell_type": "code",
      "metadata": {
        "id": "K148taY-WEXl",
        "colab_type": "code",
        "colab": {}
      },
      "source": [
        "heap.heappush(l,20)"
      ],
      "execution_count": 0,
      "outputs": []
    },
    {
      "cell_type": "code",
      "metadata": {
        "id": "9ZgXGoFsWKY4",
        "colab_type": "code",
        "colab": {}
      },
      "source": [
        "heap.heappush(l,22)"
      ],
      "execution_count": 0,
      "outputs": []
    },
    {
      "cell_type": "code",
      "metadata": {
        "id": "YiSpzozMWtaV",
        "colab_type": "code",
        "colab": {}
      },
      "source": [
        "heap.heappush(l,220)\n",
        "heap.heappush(l,130)\n",
        "heap.heappush(l,4)\n",
        "heap.heappush(l,21)\n",
        "heap.heappush(l,9)\n",
        "heap.heappush(l,10)\n"
      ],
      "execution_count": 0,
      "outputs": []
    },
    {
      "cell_type": "code",
      "metadata": {
        "id": "JFdTxYjwW7A3",
        "colab_type": "code",
        "colab": {
          "base_uri": "https://localhost:8080/",
          "height": 34
        },
        "outputId": "3dbe7cc5-4173-48a0-fad1-30a6ba6bb81f"
      },
      "source": [
        "print(l)"
      ],
      "execution_count": 14,
      "outputs": [
        {
          "output_type": "stream",
          "text": [
            "[4, 10, 9, 20, 22, 220, 21, 130]\n"
          ],
          "name": "stdout"
        }
      ]
    },
    {
      "cell_type": "code",
      "metadata": {
        "id": "XCJ-6dwoXJ5c",
        "colab_type": "code",
        "colab": {
          "base_uri": "https://localhost:8080/",
          "height": 34
        },
        "outputId": "5514f985-0d9e-4f2a-fcf2-6d1b4cb8ddfc"
      },
      "source": [
        "heap.heappop(l)"
      ],
      "execution_count": 15,
      "outputs": [
        {
          "output_type": "execute_result",
          "data": {
            "text/plain": [
              "4"
            ]
          },
          "metadata": {
            "tags": []
          },
          "execution_count": 15
        }
      ]
    },
    {
      "cell_type": "code",
      "metadata": {
        "id": "KzwmyAa3YUPx",
        "colab_type": "code",
        "colab": {
          "base_uri": "https://localhost:8080/",
          "height": 34
        },
        "outputId": "a5549cf1-f3e2-4a30-e9c5-be49ddc6cd7a"
      },
      "source": [
        "print(l)"
      ],
      "execution_count": 17,
      "outputs": [
        {
          "output_type": "stream",
          "text": [
            "[9, 10, 21, 20, 22, 220, 130]\n"
          ],
          "name": "stdout"
        }
      ]
    },
    {
      "cell_type": "code",
      "metadata": {
        "id": "H3BElmEmYVZQ",
        "colab_type": "code",
        "colab": {
          "base_uri": "https://localhost:8080/",
          "height": 34
        },
        "outputId": "828410ed-b4a2-4adf-83b1-30a9a31d9842"
      },
      "source": [
        "heap.heappushpop(l,100)"
      ],
      "execution_count": 20,
      "outputs": [
        {
          "output_type": "execute_result",
          "data": {
            "text/plain": [
              "9"
            ]
          },
          "metadata": {
            "tags": []
          },
          "execution_count": 20
        }
      ]
    },
    {
      "cell_type": "code",
      "metadata": {
        "id": "YMthrgl6Yr20",
        "colab_type": "code",
        "colab": {
          "base_uri": "https://localhost:8080/",
          "height": 34
        },
        "outputId": "3fed7da1-3172-4a21-ec3e-cd4ae1079344"
      },
      "source": [
        "print(l)"
      ],
      "execution_count": 21,
      "outputs": [
        {
          "output_type": "stream",
          "text": [
            "[10, 20, 21, 100, 22, 220, 130]\n"
          ],
          "name": "stdout"
        }
      ]
    },
    {
      "cell_type": "code",
      "metadata": {
        "id": "BTzAySqGYs5O",
        "colab_type": "code",
        "colab": {
          "base_uri": "https://localhost:8080/",
          "height": 34
        },
        "outputId": "af57bf99-dbd7-4e6e-a2c6-0d3b8ef542f1"
      },
      "source": [
        "heap.nlargest(3,l)"
      ],
      "execution_count": 22,
      "outputs": [
        {
          "output_type": "execute_result",
          "data": {
            "text/plain": [
              "[220, 130, 100]"
            ]
          },
          "metadata": {
            "tags": []
          },
          "execution_count": 22
        }
      ]
    },
    {
      "cell_type": "code",
      "metadata": {
        "id": "C2syvuIxZGOY",
        "colab_type": "code",
        "colab": {
          "base_uri": "https://localhost:8080/",
          "height": 34
        },
        "outputId": "3e8794a8-e6d8-4961-d2e5-a370de2aefff"
      },
      "source": [
        "heap.nsmallest(2,l)"
      ],
      "execution_count": 23,
      "outputs": [
        {
          "output_type": "execute_result",
          "data": {
            "text/plain": [
              "[10, 20]"
            ]
          },
          "metadata": {
            "tags": []
          },
          "execution_count": 23
        }
      ]
    },
    {
      "cell_type": "code",
      "metadata": {
        "id": "4BA8vEsAZOxC",
        "colab_type": "code",
        "colab": {}
      },
      "source": [
        "l1=[100,4,200,1,3,1,45,23]"
      ],
      "execution_count": 0,
      "outputs": []
    },
    {
      "cell_type": "code",
      "metadata": {
        "id": "NeCy752YZpVz",
        "colab_type": "code",
        "colab": {}
      },
      "source": [
        "heap.heapify(l1)"
      ],
      "execution_count": 0,
      "outputs": []
    },
    {
      "cell_type": "code",
      "metadata": {
        "id": "E5k5faPBZsgi",
        "colab_type": "code",
        "colab": {
          "base_uri": "https://localhost:8080/",
          "height": 34
        },
        "outputId": "38e0f442-67b2-4134-90e6-79f71edca9ca"
      },
      "source": [
        "l1"
      ],
      "execution_count": 43,
      "outputs": [
        {
          "output_type": "execute_result",
          "data": {
            "text/plain": [
              "[1, 1, 45, 4, 3, 200, 100, 23]"
            ]
          },
          "metadata": {
            "tags": []
          },
          "execution_count": 43
        }
      ]
    },
    {
      "cell_type": "markdown",
      "metadata": {
        "id": "w4dbuCWIbTZu",
        "colab_type": "text"
      },
      "source": [
        "# inserting in to minheap"
      ]
    },
    {
      "cell_type": "code",
      "metadata": {
        "id": "ZiOaR4uUZuDR",
        "colab_type": "code",
        "colab": {}
      },
      "source": [
        "def insertelement(a,n,data):\n",
        "  a.append(data)\n",
        "  i=n\n",
        "  while i>=1:\n",
        "    parent=(i-1)//2\n",
        "    if a[i]<a[parent]:\n",
        "      a[parent],a[i]=a[i],a[parent]\n",
        "      i=parent\n",
        "    else:\n",
        "      return\n"
      ],
      "execution_count": 0,
      "outputs": []
    },
    {
      "cell_type": "code",
      "metadata": {
        "id": "w3OEDEpNcPtK",
        "colab_type": "code",
        "colab": {}
      },
      "source": [
        "insertelement(l1,len(l1),0)"
      ],
      "execution_count": 0,
      "outputs": []
    },
    {
      "cell_type": "code",
      "metadata": {
        "id": "BDEs8QE6cUs8",
        "colab_type": "code",
        "colab": {
          "base_uri": "https://localhost:8080/",
          "height": 34
        },
        "outputId": "032ada44-d9c6-4463-b5f8-9cf5e1512b5b"
      },
      "source": [
        "l1"
      ],
      "execution_count": 46,
      "outputs": [
        {
          "output_type": "execute_result",
          "data": {
            "text/plain": [
              "[0, 1, 45, 1, 3, 200, 100, 23, 4]"
            ]
          },
          "metadata": {
            "tags": []
          },
          "execution_count": 46
        }
      ]
    },
    {
      "cell_type": "markdown",
      "metadata": {
        "id": "AC8RQdPWeTJY",
        "colab_type": "text"
      },
      "source": [
        "# delete root node of minheap"
      ]
    },
    {
      "cell_type": "code",
      "metadata": {
        "id": "57orYQY8ccI2",
        "colab_type": "code",
        "colab": {}
      },
      "source": [
        "def deleteroot(a):\n",
        "  n=len(a)\n",
        "  a[0]=a[n-1]\n",
        "  a.pop()\n",
        "  n=len(a)\n",
        "  i=0\n",
        "  while 2*i+1 < n-1 :\n",
        "    c1= 2*i+1\n",
        "    c2 = 2*i+2\n",
        "    if a[c1]<a[c2]:\n",
        "      if a[i]>a[c1]:\n",
        "        a[i],a[c1]=a[c1],a[i]\n",
        "        i=c1\n",
        "    else:\n",
        "      if a[i]>=a[c2]:\n",
        "        a[i],a[c2]=a[c2],a[i]\n",
        "        i=c2\n"
      ],
      "execution_count": 0,
      "outputs": []
    },
    {
      "cell_type": "code",
      "metadata": {
        "id": "QNWiInvgfum0",
        "colab_type": "code",
        "colab": {}
      },
      "source": [
        "deleteroot(l1)"
      ],
      "execution_count": 0,
      "outputs": []
    },
    {
      "cell_type": "code",
      "metadata": {
        "id": "glbd-zRIfxXo",
        "colab_type": "code",
        "colab": {
          "base_uri": "https://localhost:8080/",
          "height": 34
        },
        "outputId": "9f8eceda-e53f-4c68-978e-d452088717f1"
      },
      "source": [
        "l1"
      ],
      "execution_count": 54,
      "outputs": [
        {
          "output_type": "execute_result",
          "data": {
            "text/plain": [
              "[1, 3, 45, 4, 23, 200, 100]"
            ]
          },
          "metadata": {
            "tags": []
          },
          "execution_count": 54
        }
      ]
    },
    {
      "cell_type": "code",
      "metadata": {
        "id": "6Q0tIMmwf7lE",
        "colab_type": "code",
        "colab": {
          "base_uri": "https://localhost:8080/",
          "height": 34
        },
        "outputId": "8a461b32-0422-448c-a625-ea8be1e9ef72"
      },
      "source": [
        "deleteroot(l1)\n",
        "print(l1)"
      ],
      "execution_count": 56,
      "outputs": [
        {
          "output_type": "stream",
          "text": [
            "[4, 23, 45, 100, 200]\n"
          ],
          "name": "stdout"
        }
      ]
    },
    {
      "cell_type": "markdown",
      "metadata": {
        "id": "aO7AR_eLilsK",
        "colab_type": "text"
      },
      "source": [
        "# Heap sort using minheap"
      ]
    },
    {
      "cell_type": "code",
      "metadata": {
        "id": "FWiP7L2-gq-n",
        "colab_type": "code",
        "colab": {}
      },
      "source": [
        "a=[12,1,33,2,144,12,412,322]"
      ],
      "execution_count": 0,
      "outputs": []
    },
    {
      "cell_type": "code",
      "metadata": {
        "id": "ZXxfB6rUire3",
        "colab_type": "code",
        "colab": {}
      },
      "source": [
        "heap.heapify(a)"
      ],
      "execution_count": 0,
      "outputs": []
    },
    {
      "cell_type": "code",
      "metadata": {
        "id": "uhyIUJiYitq8",
        "colab_type": "code",
        "colab": {
          "base_uri": "https://localhost:8080/",
          "height": 34
        },
        "outputId": "7c9e8a1d-cd3c-4f8e-8d25-e353af4df98d"
      },
      "source": [
        "a"
      ],
      "execution_count": 66,
      "outputs": [
        {
          "output_type": "execute_result",
          "data": {
            "text/plain": [
              "[1, 2, 12, 12, 144, 33, 412, 322]"
            ]
          },
          "metadata": {
            "tags": []
          },
          "execution_count": 66
        }
      ]
    },
    {
      "cell_type": "code",
      "metadata": {
        "id": "4ah78-XpjCM0",
        "colab_type": "code",
        "colab": {}
      },
      "source": [
        "sorted=[]"
      ],
      "execution_count": 0,
      "outputs": []
    },
    {
      "cell_type": "code",
      "metadata": {
        "id": "3TtW7_2uivMW",
        "colab_type": "code",
        "colab": {}
      },
      "source": [
        "for i in range(len(a)):\n",
        "  heap.heapify(a)\n",
        "  sorted.append(a[0])\n",
        "  a=a[1:]\n"
      ],
      "execution_count": 0,
      "outputs": []
    },
    {
      "cell_type": "code",
      "metadata": {
        "id": "fdq5scGljO7t",
        "colab_type": "code",
        "colab": {
          "base_uri": "https://localhost:8080/",
          "height": 34
        },
        "outputId": "a55d97d2-3105-48ce-af85-da2c3b4fa45d"
      },
      "source": [
        "sorted"
      ],
      "execution_count": 71,
      "outputs": [
        {
          "output_type": "execute_result",
          "data": {
            "text/plain": [
              "[1, 2, 12, 12, 33, 144, 322, 412]"
            ]
          },
          "metadata": {
            "tags": []
          },
          "execution_count": 71
        }
      ]
    },
    {
      "cell_type": "code",
      "metadata": {
        "id": "RBaFyuQdjUb8",
        "colab_type": "code",
        "colab": {}
      },
      "source": [
        ""
      ],
      "execution_count": 0,
      "outputs": []
    }
  ]
}